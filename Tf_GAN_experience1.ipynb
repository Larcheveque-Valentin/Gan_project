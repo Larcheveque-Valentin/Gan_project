{
 "cells": [
  {
   "attachments": {},
   "cell_type": "markdown",
   "metadata": {},
   "source": [
    "On importe la library comme à constantinople"
   ]
  },
  {
   "cell_type": "code",
   "execution_count": 2,
   "metadata": {},
   "outputs": [],
   "source": [
    "\n",
    "import tensorflow as tf\n",
    "from tensorflow.keras import layers\n",
    "import matplotlib.pyplot as plt\n",
    "import numpy as np\n",
    "from keras.utils.vis_utils import plot_model\n",
    "import time\n",
    "import glob\n",
    "from IPython import display"
   ]
  },
  {
   "cell_type": "markdown",
   "metadata": {},
   "source": []
  },
  {
   "cell_type": "code",
   "execution_count": 12,
   "metadata": {},
   "outputs": [],
   "source": [
    "\n",
    "tf.config.experimental.set_visible_devices([], 'GPU')\n"
   ]
  },
  {
   "cell_type": "code",
   "execution_count": 13,
   "metadata": {},
   "outputs": [
    {
     "name": "stdout",
     "output_type": "stream",
     "text": [
      "[]\n"
     ]
    }
   ],
   "source": [
    "print(tf.config.list_physical_devices('GPU'))"
   ]
  },
  {
   "cell_type": "code",
   "execution_count": 14,
   "metadata": {},
   "outputs": [
    {
     "data": {
      "image/png": "[encoded data removed]",
      "text/plain": [
       "<Figure size 640x480 with 2 Axes>"
      ]
     },
     "metadata": {},
     "output_type": "display_data"
    },
    {
     "data": {
      "text/plain": [
       "60000"
      ]
     },
     "execution_count": 14,
     "metadata": {},
     "output_type": "execute_result"
    }
   ],
   "source": [
    "##Importation des données\n",
    "noise_dim=100\n",
    "batch_size=64\n",
    "(x_train, y_train), (x_test, y_test) = tf.keras.datasets.mnist.load_data()\n",
    "# Charger les données MNIST\n",
    "\n",
    "# Obtenir les indices des images de 2 dans l'ensemble d'entraînement\n",
    "two_indices = np.where(y_train == 1)[0]\n",
    "two_indices_test= np.where(y_test == 1)[0]\n",
    "# Sélectionner les images de 2 dans l'ensemble d'entraînement\n",
    "x_train_two = x_train[two_indices]\n",
    "\n",
    "y_train_two = y_train[two_indices]\n",
    "\n",
    "x_test_two = x_test[two_indices_test]\n",
    "\n",
    "y_test_two = y_test[two_indices_test]\n",
    "\n",
    "# Normaliser les données d'entraînement et de test\n",
    "\n",
    "\n",
    "# Redimensionner les données d'entraînement et de test en forme (batch_size, 28, 28, 1)\n",
    "\n",
    "x_train = x_train.reshape((-1, 28, 28, 1)).astype('float32')\n",
    "x_train = (x_train-127.5) / 127.5\n",
    "\n",
    "x_test = x_test_two.reshape((-1, 28, 28, 1)).astype('float32')\n",
    "x_test = (x_test_two-127.5) / 127.5\n",
    "plt.subplot(1, 2, 1)\n",
    "plt.imshow(x_train[0], cmap='gray')\n",
    "\n",
    "# Afficher l'image de x_train\n",
    "plt.subplot(1, 2, 2)\n",
    "plt.imshow(x_train[1], cmap='gray')\n",
    "plt.show()\n",
    "\n",
    "\n",
    "len(x_train)"
   ]
  },
  {
   "attachments": {},
   "cell_type": "markdown",
   "metadata": {},
   "source": [
    "Création de la fonction qui va permettre d'inistialiser pour accélerer la convergence"
   ]
  },
  {
   "cell_type": "code",
   "execution_count": 5,
   "metadata": {},
   "outputs": [
    {
     "data": {
      "text/plain": [
       "<tf.Tensor: shape=(64,), dtype=float32, numpy=\n",
       "array([-0.02057134, -0.01711221,  0.02841585, -0.0287781 , -0.021622  ,\n",
       "       -0.00498586,  0.01826506,  0.00442666,  0.0066594 , -0.01585433,\n",
       "       -0.00541467,  0.05281997,  0.00911564,  0.03140341,  0.00431571,\n",
       "        0.00451565,  0.02051879, -0.01322271, -0.00289165, -0.00917613,\n",
       "        0.00552466, -0.01116135,  0.0293373 ,  0.00319731, -0.0138022 ,\n",
       "        0.0137663 , -0.00870379, -0.0194723 ,  0.03866915, -0.00985328,\n",
       "       -0.00982368,  0.01021565,  0.02527995, -0.03184323,  0.00214389,\n",
       "       -0.01438658,  0.00653876, -0.01968449,  0.00896673,  0.01968564,\n",
       "       -0.00199241,  0.00663566,  0.00224051,  0.01655368, -0.02151387,\n",
       "        0.03483012, -0.00818314,  0.01340441, -0.00281234, -0.01830182,\n",
       "        0.03251108, -0.00323929, -0.01883804, -0.0037326 ,  0.0087117 ,\n",
       "       -0.03192351, -0.0091517 , -0.00932411, -0.0169593 , -0.03447701,\n",
       "        0.03048064,  0.02275443,  0.00514178, -0.00323607], dtype=float32)>"
      ]
     },
     "execution_count": 5,
     "metadata": {},
     "output_type": "execute_result"
    }
   ],
   "source": [
    "from keras.initializers import RandomNormal\n",
    "\n",
    "def custom_weight_init(shape, dtype=None):\n",
    "    return RandomNormal(mean=0.0, stddev=0.02)(shape, dtype=dtype)\n",
    "\n",
    "\n",
    "custom_weight_init([12],None)\n",
    "tf.random.normal([64],mean=0.0, stddev=0.02)\n"
   ]
  },
  {
   "attachments": {},
   "cell_type": "markdown",
   "metadata": {},
   "source": [
    "Définition des deux MLP Le premier est le générateur \n",
    "Il doit générer des images de taille (28 ,28,1), à partir d'un bruit de taille noise_dim\n",
    "Le second est le discriminateur, il sort un nombre entre 0 et 1, 1 s'il est sur que l'image est vraie, 0 sinon.\n",
    "On entraine 'epochs' fois le GAN et à chaque étape on entraine d'abord \n",
    "k fois le discriminateur et on entraine 1 fois le générateur à maximiser la valeur du discriminateur appliqué à une de ses images, elle sera alors plus \"vrai\" aux yeux du discriminateur, qui va de nouveau etre entrainé k fois et ainsi de suite. \n",
    "Cela permet d'avoir un générateur entrainé et un discriminateur entrainé si les bons paramètres sont utilisés.\n",
    "\n"
   ]
  },
  {
   "cell_type": "code",
   "execution_count": 30,
   "metadata": {},
   "outputs": [],
   "source": [
    "\n",
    "#Définition du générateur generator = tf.keras.Sequential()\n",
    "generator=tf.keras.Sequential()\n",
    "generator.add(tf.keras.layers.Dense(7*7*128, input_shape=(noise_dim,),use_bias=False,activation=\"tanh\",kernel_initializer=tf.initializers.random_normal(0.0,0.02)))\n",
    "generator.add(tf.keras.layers.BatchNormalization())\n",
    "generator.add(tf.keras.layers.LeakyReLU(alpha=0.2))\n",
    "generator.add(tf.keras.layers.Reshape((7,7 ,128 )))\n",
    "\n",
    "\n",
    "generator.add(tf.keras.layers.Conv2DTranspose(128, kernel_size=(4,4), strides=(2,2), padding='same',use_bias=False,kernel_initializer=tf.initializers.random_normal(0.0,0.02)))\n",
    "generator.add(tf.keras.layers.BatchNormalization())\n",
    "generator.add(tf.keras.layers.LeakyReLU(alpha=0.2))\n",
    "\n",
    "\n",
    "generator.add(tf.keras.layers.Conv2DTranspose(216, kernel_size=(4,4), strides=(2,2), padding='same',use_bias=False,kernel_initializer=tf.initializers.random_normal(0.0,0.02)))\n",
    "generator.add(tf.keras.layers.BatchNormalization())\n",
    "generator.add(tf.keras.layers.LeakyReLU(alpha=0.2))\n",
    "generator.add(tf.keras.layers.Conv2D(1, kernel_size=(7,7), strides=(1,1), padding='same',kernel_initializer=tf.initializers.random_normal(0.0,0.02)))"
   ]
  },
  {
   "cell_type": "code",
   "execution_count": 31,
   "metadata": {},
   "outputs": [],
   "source": [
    "\n",
    "# Créer le discriminateur# Définition du modèle du discriminator\n",
    "discriminator = tf.keras.Sequential()\n",
    "\n",
    "discriminator.add(tf.keras.layers.Conv2D(64, (3, 3),strides=(2,2), padding='same',kernel_initializer=tf.initializers.random_normal(0.0,0.02)))\n",
    "discriminator.add(tf.keras.layers.LeakyReLU(alpha=0.2))\n",
    "\n",
    "discriminator.add(tf.keras.layers.Dropout(0.3))\n",
    "\n",
    "discriminator.add(tf.keras.layers.Conv2D(32, (3, 3),strides=(2,2), padding='same',kernel_initializer=tf.initializers.random_normal(0.0,0.02)))\n",
    "discriminator.add(tf.keras.layers.LeakyReLU(alpha=0.2))\n",
    "discriminator.add(tf.keras.layers.Dropout(0.3))\n",
    "discriminator.add(tf.keras.layers.Flatten())\n",
    "discriminator.add(tf.keras.layers.Dense(1, activation='sigmoid'))\n",
    "\n",
    "# Compiler le discriminateur avec une fonction de coût binaire croisée et un optimiseur Adam\n",
    "\n"
   ]
  },
  {
   "attachments": {},
   "cell_type": "markdown",
   "metadata": {},
   "source": [
    "Compilations:\n",
    "Recompiler ne reset pas les poids, \n",
    "Cela permet d'actualiser les learning rates pour reprendre l'entrainement\n",
    "ou de changer la loss function\n"
   ]
  },
  {
   "attachments": {},
   "cell_type": "markdown",
   "metadata": {},
   "source": [
    "Fonctions de perte utiles à la génération :"
   ]
  },
  {
   "cell_type": "code",
   "execution_count": 46,
   "metadata": {},
   "outputs": [],
   "source": [
    "cross_entropy=tf.keras.losses.BinaryCrossentropy(from_logits=False)\n",
    "\n",
    "def discriminator_loss(real_output,fake_output):\n",
    "  d_loss_real = tf.keras.losses.BinaryCrossentropy()(tf.ones_like(real_output),fake_output)\n",
    "  d_loss_fake = tf.keras.losses.BinaryCrossentropy()(tf.zeros_like(real_output), fake_output)\n",
    "  d_loss=d_loss_fake+d_loss_real\n",
    "  return d_loss\n",
    "\n",
    "\n",
    "def generate_noise(batch_size, noise_dim):\n",
    "  return np.random.normal(0, 1, size=(batch_size, noise_dim))\n",
    "\n",
    "def generator_loss(fake_output):\n",
    "    return tf.keras.losses.BinaryCrossentropy()(tf.ones_like(fake_output),fake_output)\n",
    "\n",
    "\n",
    "\n",
    "noise_dim=100\n",
    "\n",
    "\n",
    "num_generated_image=16\n",
    "seed=tf.random.normal([num_generated_image,noise_dim])\n",
    "sigma=1\n",
    "\n",
    "g_optimizer=tf.keras.optimizers.Adam(0.07)##8178 bons last\n",
    "d_optimizer=tf.keras.optimizers.Adam(0.02)## 2242"
   ]
  },
  {
   "attachments": {},
   "cell_type": "markdown",
   "metadata": {},
   "source": [
    "Définition des batchs:"
   ]
  },
  {
   "cell_type": "code",
   "execution_count": 47,
   "metadata": {},
   "outputs": [
    {
     "data": {
      "text/plain": [
       "938"
      ]
     },
     "execution_count": 47,
     "metadata": {},
     "output_type": "execute_result"
    }
   ],
   "source": [
    "BUFFER_SIZE=60000\n",
    "batch_size=64\n",
    "train_dataset=tf.data.Dataset.from_tensor_slices(x_train)\n",
    "train_dataset=tf.data.Dataset.shuffle(self=train_dataset,buffer_size=BUFFER_SIZE)\n",
    "train_dataset = train_dataset.batch(batch_size)\n",
    "len(train_dataset)\n"
   ]
  },
  {
   "cell_type": "code",
   "execution_count": 48,
   "metadata": {},
   "outputs": [],
   "source": [
    "\n",
    "noise_dim=100\n",
    "\n",
    "epochs=4\n",
    "\n",
    "num_discriminator_steps_per_epoch=3\n",
    "num_generator_steps_per_epoch=1\n",
    "\n",
    "input_shape=(28,28,1)\n"
   ]
  },
  {
   "cell_type": "code",
   "execution_count": 49,
   "metadata": {},
   "outputs": [],
   "source": [
    "@tf.function ##Décoration de la tf.fonction pour l'entrainement \n",
    "def train_step(image):\n",
    "\n",
    "    with tf.GradientTape() as gen_tape, tf.GradientTape() as disc_tape:\n",
    "        \n",
    "        noise = np.random.normal(0,sigma,[batch_size, noise_dim])\n",
    "        gen_images=generator(noise,training=True)\n",
    "\n",
    "        real_output=discriminator(image,training=True)\n",
    "        fake_output=discriminator(gen_images,training=True)\n",
    "\n",
    "        d_loss=discriminator_loss(real_output=real_output,fake_output=fake_output)\n",
    "        g_loss=generator_loss(fake_output=fake_output)\n",
    "        \n",
    "\n",
    "        gradient_of_discriminator=disc_tape.gradient(d_loss,discriminator.trainable_variables)\n",
    "        gradient_of_generator=gen_tape.gradient(g_loss,generator.trainable_variables)\n",
    "        g_optimizer.apply_gradients(zip(gradient_of_generator,generator.trainable_variables))\n",
    "        d_optimizer.apply_gradients(zip(gradient_of_discriminator,discriminator.trainable_variables))\n",
    "    return [g_loss,d_loss]\n",
    "\n"
   ]
  },
  {
   "attachments": {},
   "cell_type": "markdown",
   "metadata": {},
   "source": [
    "Boucle d'entrainement, on effectue des batch à partir d'une fonction de génération de batchs définie précédemment ,à chaque itération on fait la fonction next qui prend un autre batch n'ayant pas été utilisé.\n",
    "Pour num_discriminator_steps_per_epoch on entraine le discriminateur avec des fausse images en réponse des 0 et des vrais images avec en réponses des 1\n",
    "\n"
   ]
  },
  {
   "cell_type": "code",
   "execution_count": 50,
   "metadata": {},
   "outputs": [],
   "source": [
    "@tf.function ##Décoration de la tf.fonction pour l'entrainement \n",
    "def train_step_discriminator(images,noise):\n",
    "\n",
    "    with tf.GradientTape() as gen_tape, tf.GradientTape() as disc_tape:\n",
    "        \n",
    "        gen_images=generator(noise,training=True)\n",
    "\n",
    "        real_output=discriminator(images,training=True)\n",
    "        fake_output=discriminator(gen_images,training=True)\n",
    "\n",
    "        d_loss=discriminator_loss(real_output=real_output,fake_output=fake_output)\n",
    "        \n",
    "\n",
    "        gradient_of_discriminator=disc_tape.gradient(d_loss,discriminator.trainable_variables)\n",
    "\n",
    "    d_optimizer.apply_gradients(zip(gradient_of_discriminator,discriminator.trainable_variables)) \n",
    "    \n",
    "    ## Calcul de la loss post entrainement\n",
    "    noise = np.random.normal(0,sigma,[batch_size, noise_dim])\n",
    "    gen_images=generator(noise,training=True)\n",
    "        \n",
    "    real_output=discriminator(images,training=True)\n",
    "    fake_output=discriminator(gen_images,training=True)\n",
    "   \n",
    "    d_loss=discriminator_loss(real_output=real_output,fake_output=fake_output)\n",
    "    \n",
    "    return d_loss"
   ]
  },
  {
   "attachments": {},
   "cell_type": "markdown",
   "metadata": {},
   "source": [
    "Entrainement du générateur, sa loss est définie en fonction de l'output du discriminateur, il doit maximiser ce dernier."
   ]
  },
  {
   "cell_type": "code",
   "execution_count": 51,
   "metadata": {},
   "outputs": [],
   "source": [
    "@tf.function ##Décoration de la tf.fonction pour l'entrainement \n",
    "def train_step_generator(noise):\n",
    "    \n",
    "\n",
    "    with tf.GradientTape() as gen_tape, tf.GradientTape() as disc_tape:\n",
    "        gen_images=generator(noise,training=True)\n",
    "\n",
    "        \n",
    "        fake_output=discriminator(gen_images,training=True)\n",
    "    \n",
    "        g_loss=generator_loss(fake_output=fake_output)\n",
    "        \n",
    "\n",
    "        gradient_of_generator=gen_tape.gradient(g_loss,generator.trainable_variables)\n",
    "\n",
    "    g_optimizer.apply_gradients(zip(gradient_of_generator,generator.trainable_variables))\n",
    "    \n",
    "    ## Calcul de la loss post entrainement\n",
    "    noise = np.random.normal(0,sigma,[batch_size, noise_dim])\n",
    "    \n",
    "    gen_images=generator(noise,training=True)\n",
    "    fake_output=discriminator(gen_images,training=True)\n",
    "    g_loss=generator_loss(fake_output=fake_output)\n",
    "    \n",
    "   \n",
    "    return g_loss"
   ]
  },
  {
   "cell_type": "code",
   "execution_count": 52,
   "metadata": {},
   "outputs": [],
   "source": [
    "def generate_and_save_images(model,epoch,test_input):\n",
    "    predictions=model(test_input,training=True)\n",
    "    fig=plt.figure(figsize=(4,4))\n",
    "    for i in range(predictions.shape[0]):\n",
    "        plt.subplot(4,4,i+1)\n",
    "        plt.imshow(predictions[i,:,:,0]*127.5+127.5,cmap='gray')\n",
    "        plt.axis('off')\n",
    "        \n",
    "    plt.show()\n",
    "    "
   ]
  },
  {
   "cell_type": "code",
   "execution_count": 53,
   "metadata": {},
   "outputs": [],
   "source": [
    "from tqdm import tqdm\n",
    "\n",
    "def train(dataset,epochs,num_discriminator_steps_per_epoch,num_generator_steps_per_epoch):\n",
    "    \n",
    "    for epoch in range(epochs):\n",
    "        start=time.time()\n",
    "        \n",
    "        for image_batch in tqdm(dataset):\n",
    "            \n",
    "            for n in range(num_discriminator_steps_per_epoch):\n",
    "                noise = np.random.normal(0,sigma,[batch_size, noise_dim])\n",
    "                d_loss=train_step_discriminator(image_batch,noise)\n",
    "                d_loss=tf.reduce_mean(d_loss).numpy()\n",
    "                print (\"Discriminator step:\",n+1,d_loss)\n",
    "            \n",
    "            \n",
    "            for k in range(num_generator_steps_per_epoch):\n",
    "                noise = np.random.normal(0,sigma,[batch_size, noise_dim])\n",
    "                g_loss=train_step_generator(noise)\n",
    "                g_loss=tf.reduce_mean(g_loss).numpy()\n",
    "                \n",
    "                \n",
    "                print (\"Generator step:\",k+1,g_loss)\n",
    "            \n",
    "            g_loss,d_loss=train_step(image_batch)\n",
    "            D_g_z=tf.reduce_mean(discriminator(generator(seed))).numpy()\n",
    "            D_x_data=tf.reduce_mean(discriminator(x_test)).numpy()\n",
    "           \n",
    "           \n",
    "            \n",
    "            display.clear_output(wait=True)\n",
    "            generate_and_save_images(generator,epochs,test_input=seed)\n",
    "            print(\"D(G(z))\",D_g_z)\n",
    "            print(\"D(x_data)\",D_x_data)\n",
    "            print(\"GLOSS_mean=\",g_loss,\"DLOSS_mean=\",d_loss)\n",
    "        \n",
    "        generate_and_save_images(generator,epochs,test_input=seed)\n",
    "        return[D_g_z,D_x_data,g_loss.numpy(),d_loss.numpy()]"
   ]
  },
  {
   "cell_type": "code",
   "execution_count": 54,
   "metadata": {},
   "outputs": [
    {
     "name": "stderr",
     "output_type": "stream",
     "text": [
      "  0%|          | 0/938 [00:01<?, ?it/s]"
     ]
    },
    {
     "name": "stdout",
     "output_type": "stream",
     "text": [
      "Discriminator step: 1 1.3883557\n"
     ]
    },
    {
     "name": "stderr",
     "output_type": "stream",
     "text": [
      "\n"
     ]
    },
    {
     "ename": "AttributeError",
     "evalue": "in user code:\n\n    File \"C:\\Users\\Utilisateur\\AppData\\Local\\Temp\\ipykernel_6228\\1591157444.py\", line 11, in train_step_generator  *\n        g_loss=generator_loss(fake_output=fake_output)\n    File \"C:\\Users\\Utilisateur\\AppData\\Local\\Temp\\ipykernel_6228\\1230382008.py\", line 14, in generator_loss  *\n        return tf.keras.losses.Categorical_crossentropy()(tf.ones_like(fake_output),fake_output)\n\n    AttributeError: module 'keras.api._v2.keras.losses' has no attribute 'Categorical_crossentropy'\n",
     "output_type": "error",
     "traceback": [
      "\u001b[1;31m---------------------------------------------------------------------------\u001b[0m",
      "\u001b[1;31mAttributeError\u001b[0m                            Traceback (most recent call last)",
      "\u001b[1;32m~\\AppData\\Local\\Temp\\ipykernel_6228\\1917742175.py\u001b[0m in \u001b[0;36m<module>\u001b[1;34m\u001b[0m\n\u001b[1;32m----> 1\u001b[1;33m \u001b[0mtrain\u001b[0m\u001b[1;33m(\u001b[0m\u001b[0mdataset\u001b[0m\u001b[1;33m=\u001b[0m\u001b[0mtrain_dataset\u001b[0m\u001b[1;33m,\u001b[0m\u001b[0mepochs\u001b[0m\u001b[1;33m=\u001b[0m\u001b[1;36m1\u001b[0m\u001b[1;33m,\u001b[0m\u001b[0mnum_discriminator_steps_per_epoch\u001b[0m\u001b[1;33m=\u001b[0m\u001b[1;36m1\u001b[0m\u001b[1;33m,\u001b[0m\u001b[0mnum_generator_steps_per_epoch\u001b[0m\u001b[1;33m=\u001b[0m\u001b[1;36m1\u001b[0m\u001b[1;33m)\u001b[0m\u001b[1;33m\u001b[0m\u001b[1;33m\u001b[0m\u001b[0m\n\u001b[0m",
      "\u001b[1;32m~\\AppData\\Local\\Temp\\ipykernel_6228\\2003363092.py\u001b[0m in \u001b[0;36mtrain\u001b[1;34m(dataset, epochs, num_discriminator_steps_per_epoch, num_generator_steps_per_epoch)\u001b[0m\n\u001b[0;32m     17\u001b[0m             \u001b[1;32mfor\u001b[0m \u001b[0mk\u001b[0m \u001b[1;32min\u001b[0m \u001b[0mrange\u001b[0m\u001b[1;33m(\u001b[0m\u001b[0mnum_generator_steps_per_epoch\u001b[0m\u001b[1;33m)\u001b[0m\u001b[1;33m:\u001b[0m\u001b[1;33m\u001b[0m\u001b[1;33m\u001b[0m\u001b[0m\n\u001b[0;32m     18\u001b[0m                 \u001b[0mnoise\u001b[0m \u001b[1;33m=\u001b[0m \u001b[0mnp\u001b[0m\u001b[1;33m.\u001b[0m\u001b[0mrandom\u001b[0m\u001b[1;33m.\u001b[0m\u001b[0mnormal\u001b[0m\u001b[1;33m(\u001b[0m\u001b[1;36m0\u001b[0m\u001b[1;33m,\u001b[0m\u001b[0msigma\u001b[0m\u001b[1;33m,\u001b[0m\u001b[1;33m[\u001b[0m\u001b[0mbatch_size\u001b[0m\u001b[1;33m,\u001b[0m \u001b[0mnoise_dim\u001b[0m\u001b[1;33m]\u001b[0m\u001b[1;33m)\u001b[0m\u001b[1;33m\u001b[0m\u001b[1;33m\u001b[0m\u001b[0m\n\u001b[1;32m---> 19\u001b[1;33m                 \u001b[0mg_loss\u001b[0m\u001b[1;33m=\u001b[0m\u001b[0mtrain_step_generator\u001b[0m\u001b[1;33m(\u001b[0m\u001b[0mnoise\u001b[0m\u001b[1;33m)\u001b[0m\u001b[1;33m\u001b[0m\u001b[1;33m\u001b[0m\u001b[0m\n\u001b[0m\u001b[0;32m     20\u001b[0m                 \u001b[0mg_loss\u001b[0m\u001b[1;33m=\u001b[0m\u001b[0mtf\u001b[0m\u001b[1;33m.\u001b[0m\u001b[0mreduce_mean\u001b[0m\u001b[1;33m(\u001b[0m\u001b[0mg_loss\u001b[0m\u001b[1;33m)\u001b[0m\u001b[1;33m.\u001b[0m\u001b[0mnumpy\u001b[0m\u001b[1;33m(\u001b[0m\u001b[1;33m)\u001b[0m\u001b[1;33m\u001b[0m\u001b[1;33m\u001b[0m\u001b[0m\n\u001b[0;32m     21\u001b[0m \u001b[1;33m\u001b[0m\u001b[0m\n",
      "\u001b[1;32mc:\\Users\\Utilisateur\\anaconda3\\lib\\site-packages\\tensorflow\\python\\util\\traceback_utils.py\u001b[0m in \u001b[0;36merror_handler\u001b[1;34m(*args, **kwargs)\u001b[0m\n\u001b[0;32m    151\u001b[0m     \u001b[1;32mexcept\u001b[0m \u001b[0mException\u001b[0m \u001b[1;32mas\u001b[0m \u001b[0me\u001b[0m\u001b[1;33m:\u001b[0m\u001b[1;33m\u001b[0m\u001b[1;33m\u001b[0m\u001b[0m\n\u001b[0;32m    152\u001b[0m       \u001b[0mfiltered_tb\u001b[0m \u001b[1;33m=\u001b[0m \u001b[0m_process_traceback_frames\u001b[0m\u001b[1;33m(\u001b[0m\u001b[0me\u001b[0m\u001b[1;33m.\u001b[0m\u001b[0m__traceback__\u001b[0m\u001b[1;33m)\u001b[0m\u001b[1;33m\u001b[0m\u001b[1;33m\u001b[0m\u001b[0m\n\u001b[1;32m--> 153\u001b[1;33m       \u001b[1;32mraise\u001b[0m \u001b[0me\u001b[0m\u001b[1;33m.\u001b[0m\u001b[0mwith_traceback\u001b[0m\u001b[1;33m(\u001b[0m\u001b[0mfiltered_tb\u001b[0m\u001b[1;33m)\u001b[0m \u001b[1;32mfrom\u001b[0m \u001b[1;32mNone\u001b[0m\u001b[1;33m\u001b[0m\u001b[1;33m\u001b[0m\u001b[0m\n\u001b[0m\u001b[0;32m    154\u001b[0m     \u001b[1;32mfinally\u001b[0m\u001b[1;33m:\u001b[0m\u001b[1;33m\u001b[0m\u001b[1;33m\u001b[0m\u001b[0m\n\u001b[0;32m    155\u001b[0m       \u001b[1;32mdel\u001b[0m \u001b[0mfiltered_tb\u001b[0m\u001b[1;33m\u001b[0m\u001b[1;33m\u001b[0m\u001b[0m\n",
      "\u001b[1;32mC:\\Users\\UTILIS~1\\AppData\\Local\\Temp\\__autograph_generated_filenplzerfl.py\u001b[0m in \u001b[0;36mtf__train_step_generator\u001b[1;34m(noise)\u001b[0m\n\u001b[0;32m     11\u001b[0m                     \u001b[0mgen_images\u001b[0m \u001b[1;33m=\u001b[0m \u001b[0mag__\u001b[0m\u001b[1;33m.\u001b[0m\u001b[0mconverted_call\u001b[0m\u001b[1;33m(\u001b[0m\u001b[0mag__\u001b[0m\u001b[1;33m.\u001b[0m\u001b[0mld\u001b[0m\u001b[1;33m(\u001b[0m\u001b[0mgenerator\u001b[0m\u001b[1;33m)\u001b[0m\u001b[1;33m,\u001b[0m \u001b[1;33m(\u001b[0m\u001b[0mag__\u001b[0m\u001b[1;33m.\u001b[0m\u001b[0mld\u001b[0m\u001b[1;33m(\u001b[0m\u001b[0mnoise\u001b[0m\u001b[1;33m)\u001b[0m\u001b[1;33m,\u001b[0m\u001b[1;33m)\u001b[0m\u001b[1;33m,\u001b[0m \u001b[0mdict\u001b[0m\u001b[1;33m(\u001b[0m\u001b[0mtraining\u001b[0m\u001b[1;33m=\u001b[0m\u001b[1;32mTrue\u001b[0m\u001b[1;33m)\u001b[0m\u001b[1;33m,\u001b[0m \u001b[0mfscope\u001b[0m\u001b[1;33m)\u001b[0m\u001b[1;33m\u001b[0m\u001b[1;33m\u001b[0m\u001b[0m\n\u001b[0;32m     12\u001b[0m                     \u001b[0mfake_output\u001b[0m \u001b[1;33m=\u001b[0m \u001b[0mag__\u001b[0m\u001b[1;33m.\u001b[0m\u001b[0mconverted_call\u001b[0m\u001b[1;33m(\u001b[0m\u001b[0mag__\u001b[0m\u001b[1;33m.\u001b[0m\u001b[0mld\u001b[0m\u001b[1;33m(\u001b[0m\u001b[0mdiscriminator\u001b[0m\u001b[1;33m)\u001b[0m\u001b[1;33m,\u001b[0m \u001b[1;33m(\u001b[0m\u001b[0mag__\u001b[0m\u001b[1;33m.\u001b[0m\u001b[0mld\u001b[0m\u001b[1;33m(\u001b[0m\u001b[0mgen_images\u001b[0m\u001b[1;33m)\u001b[0m\u001b[1;33m,\u001b[0m\u001b[1;33m)\u001b[0m\u001b[1;33m,\u001b[0m \u001b[0mdict\u001b[0m\u001b[1;33m(\u001b[0m\u001b[0mtraining\u001b[0m\u001b[1;33m=\u001b[0m\u001b[1;32mTrue\u001b[0m\u001b[1;33m)\u001b[0m\u001b[1;33m,\u001b[0m \u001b[0mfscope\u001b[0m\u001b[1;33m)\u001b[0m\u001b[1;33m\u001b[0m\u001b[1;33m\u001b[0m\u001b[0m\n\u001b[1;32m---> 13\u001b[1;33m                     \u001b[0mg_loss\u001b[0m \u001b[1;33m=\u001b[0m \u001b[0mag__\u001b[0m\u001b[1;33m.\u001b[0m\u001b[0mconverted_call\u001b[0m\u001b[1;33m(\u001b[0m\u001b[0mag__\u001b[0m\u001b[1;33m.\u001b[0m\u001b[0mld\u001b[0m\u001b[1;33m(\u001b[0m\u001b[0mgenerator_loss\u001b[0m\u001b[1;33m)\u001b[0m\u001b[1;33m,\u001b[0m \u001b[1;33m(\u001b[0m\u001b[1;33m)\u001b[0m\u001b[1;33m,\u001b[0m \u001b[0mdict\u001b[0m\u001b[1;33m(\u001b[0m\u001b[0mfake_output\u001b[0m\u001b[1;33m=\u001b[0m\u001b[0mag__\u001b[0m\u001b[1;33m.\u001b[0m\u001b[0mld\u001b[0m\u001b[1;33m(\u001b[0m\u001b[0mfake_output\u001b[0m\u001b[1;33m)\u001b[0m\u001b[1;33m)\u001b[0m\u001b[1;33m,\u001b[0m \u001b[0mfscope\u001b[0m\u001b[1;33m)\u001b[0m\u001b[1;33m\u001b[0m\u001b[1;33m\u001b[0m\u001b[0m\n\u001b[0m\u001b[0;32m     14\u001b[0m                     \u001b[0mgradient_of_generator\u001b[0m \u001b[1;33m=\u001b[0m \u001b[0mag__\u001b[0m\u001b[1;33m.\u001b[0m\u001b[0mconverted_call\u001b[0m\u001b[1;33m(\u001b[0m\u001b[0mag__\u001b[0m\u001b[1;33m.\u001b[0m\u001b[0mld\u001b[0m\u001b[1;33m(\u001b[0m\u001b[0mgen_tape\u001b[0m\u001b[1;33m)\u001b[0m\u001b[1;33m.\u001b[0m\u001b[0mgradient\u001b[0m\u001b[1;33m,\u001b[0m \u001b[1;33m(\u001b[0m\u001b[0mag__\u001b[0m\u001b[1;33m.\u001b[0m\u001b[0mld\u001b[0m\u001b[1;33m(\u001b[0m\u001b[0mg_loss\u001b[0m\u001b[1;33m)\u001b[0m\u001b[1;33m,\u001b[0m \u001b[0mag__\u001b[0m\u001b[1;33m.\u001b[0m\u001b[0mld\u001b[0m\u001b[1;33m(\u001b[0m\u001b[0mgenerator\u001b[0m\u001b[1;33m)\u001b[0m\u001b[1;33m.\u001b[0m\u001b[0mtrainable_variables\u001b[0m\u001b[1;33m)\u001b[0m\u001b[1;33m,\u001b[0m \u001b[1;32mNone\u001b[0m\u001b[1;33m,\u001b[0m \u001b[0mfscope\u001b[0m\u001b[1;33m)\u001b[0m\u001b[1;33m\u001b[0m\u001b[1;33m\u001b[0m\u001b[0m\n\u001b[0;32m     15\u001b[0m                 \u001b[0mag__\u001b[0m\u001b[1;33m.\u001b[0m\u001b[0mconverted_call\u001b[0m\u001b[1;33m(\u001b[0m\u001b[0mag__\u001b[0m\u001b[1;33m.\u001b[0m\u001b[0mld\u001b[0m\u001b[1;33m(\u001b[0m\u001b[0mg_optimizer\u001b[0m\u001b[1;33m)\u001b[0m\u001b[1;33m.\u001b[0m\u001b[0mapply_gradients\u001b[0m\u001b[1;33m,\u001b[0m \u001b[1;33m(\u001b[0m\u001b[0mag__\u001b[0m\u001b[1;33m.\u001b[0m\u001b[0mconverted_call\u001b[0m\u001b[1;33m(\u001b[0m\u001b[0mag__\u001b[0m\u001b[1;33m.\u001b[0m\u001b[0mld\u001b[0m\u001b[1;33m(\u001b[0m\u001b[0mzip\u001b[0m\u001b[1;33m)\u001b[0m\u001b[1;33m,\u001b[0m \u001b[1;33m(\u001b[0m\u001b[0mag__\u001b[0m\u001b[1;33m.\u001b[0m\u001b[0mld\u001b[0m\u001b[1;33m(\u001b[0m\u001b[0mgradient_of_generator\u001b[0m\u001b[1;33m)\u001b[0m\u001b[1;33m,\u001b[0m \u001b[0mag__\u001b[0m\u001b[1;33m.\u001b[0m\u001b[0mld\u001b[0m\u001b[1;33m(\u001b[0m\u001b[0mgenerator\u001b[0m\u001b[1;33m)\u001b[0m\u001b[1;33m.\u001b[0m\u001b[0mtrainable_variables\u001b[0m\u001b[1;33m)\u001b[0m\u001b[1;33m,\u001b[0m \u001b[1;32mNone\u001b[0m\u001b[1;33m,\u001b[0m \u001b[0mfscope\u001b[0m\u001b[1;33m)\u001b[0m\u001b[1;33m,\u001b[0m\u001b[1;33m)\u001b[0m\u001b[1;33m,\u001b[0m \u001b[1;32mNone\u001b[0m\u001b[1;33m,\u001b[0m \u001b[0mfscope\u001b[0m\u001b[1;33m)\u001b[0m\u001b[1;33m\u001b[0m\u001b[1;33m\u001b[0m\u001b[0m\n",
      "\u001b[1;32mC:\\Users\\UTILIS~1\\AppData\\Local\\Temp\\__autograph_generated_fileotot83sk.py\u001b[0m in \u001b[0;36mtf__generator_loss\u001b[1;34m(fake_output)\u001b[0m\n\u001b[0;32m     10\u001b[0m                 \u001b[1;32mtry\u001b[0m\u001b[1;33m:\u001b[0m\u001b[1;33m\u001b[0m\u001b[1;33m\u001b[0m\u001b[0m\n\u001b[0;32m     11\u001b[0m                     \u001b[0mdo_return\u001b[0m \u001b[1;33m=\u001b[0m \u001b[1;32mTrue\u001b[0m\u001b[1;33m\u001b[0m\u001b[1;33m\u001b[0m\u001b[0m\n\u001b[1;32m---> 12\u001b[1;33m                     \u001b[0mretval_\u001b[0m \u001b[1;33m=\u001b[0m \u001b[0mag__\u001b[0m\u001b[1;33m.\u001b[0m\u001b[0mconverted_call\u001b[0m\u001b[1;33m(\u001b[0m\u001b[0mag__\u001b[0m\u001b[1;33m.\u001b[0m\u001b[0mconverted_call\u001b[0m\u001b[1;33m(\u001b[0m\u001b[0mag__\u001b[0m\u001b[1;33m.\u001b[0m\u001b[0mld\u001b[0m\u001b[1;33m(\u001b[0m\u001b[0mtf\u001b[0m\u001b[1;33m)\u001b[0m\u001b[1;33m.\u001b[0m\u001b[0mkeras\u001b[0m\u001b[1;33m.\u001b[0m\u001b[0mlosses\u001b[0m\u001b[1;33m.\u001b[0m\u001b[0mCategorical_crossentropy\u001b[0m\u001b[1;33m,\u001b[0m \u001b[1;33m(\u001b[0m\u001b[1;33m)\u001b[0m\u001b[1;33m,\u001b[0m \u001b[1;32mNone\u001b[0m\u001b[1;33m,\u001b[0m \u001b[0mfscope\u001b[0m\u001b[1;33m)\u001b[0m\u001b[1;33m,\u001b[0m \u001b[1;33m(\u001b[0m\u001b[0mag__\u001b[0m\u001b[1;33m.\u001b[0m\u001b[0mconverted_call\u001b[0m\u001b[1;33m(\u001b[0m\u001b[0mag__\u001b[0m\u001b[1;33m.\u001b[0m\u001b[0mld\u001b[0m\u001b[1;33m(\u001b[0m\u001b[0mtf\u001b[0m\u001b[1;33m)\u001b[0m\u001b[1;33m.\u001b[0m\u001b[0mones_like\u001b[0m\u001b[1;33m,\u001b[0m \u001b[1;33m(\u001b[0m\u001b[0mag__\u001b[0m\u001b[1;33m.\u001b[0m\u001b[0mld\u001b[0m\u001b[1;33m(\u001b[0m\u001b[0mfake_output\u001b[0m\u001b[1;33m)\u001b[0m\u001b[1;33m,\u001b[0m\u001b[1;33m)\u001b[0m\u001b[1;33m,\u001b[0m \u001b[1;32mNone\u001b[0m\u001b[1;33m,\u001b[0m \u001b[0mfscope\u001b[0m\u001b[1;33m)\u001b[0m\u001b[1;33m,\u001b[0m \u001b[0mag__\u001b[0m\u001b[1;33m.\u001b[0m\u001b[0mld\u001b[0m\u001b[1;33m(\u001b[0m\u001b[0mfake_output\u001b[0m\u001b[1;33m)\u001b[0m\u001b[1;33m)\u001b[0m\u001b[1;33m,\u001b[0m \u001b[1;32mNone\u001b[0m\u001b[1;33m,\u001b[0m \u001b[0mfscope\u001b[0m\u001b[1;33m)\u001b[0m\u001b[1;33m\u001b[0m\u001b[1;33m\u001b[0m\u001b[0m\n\u001b[0m\u001b[0;32m     13\u001b[0m                 \u001b[1;32mexcept\u001b[0m\u001b[1;33m:\u001b[0m\u001b[1;33m\u001b[0m\u001b[1;33m\u001b[0m\u001b[0m\n\u001b[0;32m     14\u001b[0m                     \u001b[0mdo_return\u001b[0m \u001b[1;33m=\u001b[0m \u001b[1;32mFalse\u001b[0m\u001b[1;33m\u001b[0m\u001b[1;33m\u001b[0m\u001b[0m\n",
      "\u001b[1;31mAttributeError\u001b[0m: in user code:\n\n    File \"C:\\Users\\Utilisateur\\AppData\\Local\\Temp\\ipykernel_6228\\1591157444.py\", line 11, in train_step_generator  *\n        g_loss=generator_loss(fake_output=fake_output)\n    File \"C:\\Users\\Utilisateur\\AppData\\Local\\Temp\\ipykernel_6228\\1230382008.py\", line 14, in generator_loss  *\n        return tf.keras.losses.Categorical_crossentropy()(tf.ones_like(fake_output),fake_output)\n\n    AttributeError: module 'keras.api._v2.keras.losses' has no attribute 'Categorical_crossentropy'\n"
     ]
    }
   ],
   "source": [
    "train(dataset=train_dataset,epochs=1,num_discriminator_steps_per_epoch=1,num_generator_steps_per_epoch=1)"
   ]
  },
  {
   "cell_type": "code",
   "execution_count": null,
   "metadata": {},
   "outputs": [
    {
     "data": {
      "text/plain": [
       "<tf.Tensor: shape=(1135, 1), dtype=float32, numpy=\n",
       "array([[0.],\n",
       "       [0.],\n",
       "       [0.],\n",
       "       ...,\n",
       "       [0.],\n",
       "       [0.],\n",
       "       [0.]], dtype=float32)>"
      ]
     },
     "execution_count": 19,
     "metadata": {},
     "output_type": "execute_result"
    }
   ],
   "source": [
    "discriminator(x_test)"
   ]
  },
  {
   "cell_type": "code",
   "execution_count": 67,
   "metadata": {},
   "outputs": [
    {
     "data": {
      "image/png": "[encoded data removed]",
      "text/plain": [
       "<Figure size 1600x1600 with 1 Axes>"
      ]
     },
     "metadata": {},
     "output_type": "display_data"
    }
   ],
   "source": [
    "plt.figure(figsize=(16,16))\n",
    "gen_test=generator(tf.random.normal([batch_size,noise_dim]))\n",
    "plt.imshow(gen_test[7],cmap='gray')\n",
    "plt.show()\n"
   ]
  }
 ],
 "metadata": {
  "kernelspec": {
   "display_name": "base",
   "language": "python",
   "name": "python3"
  },
  "language_info": {
   "codemirror_mode": {
    "name": "ipython",
    "version": 3
   },
   "file_extension": ".py",
   "mimetype": "text/x-python",
   "name": "python",
   "nbconvert_exporter": "python",
   "pygments_lexer": "ipython3",
   "version": "3.9.13"
  },
  "orig_nbformat": 4,
  "vscode": {
   "interpreter": {
    "hash": "66168a667a11ac16aca0d0d9742c8419f93457ff66115bf85239ea370d417636"
   }
  }
 },
 "nbformat": 4,
 "nbformat_minor": 2
}
